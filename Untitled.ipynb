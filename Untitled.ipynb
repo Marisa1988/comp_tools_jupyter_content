{
 "cells": [
  {
   "cell_type": "code",
   "execution_count": 14,
   "id": "ff2c431b-8afa-4949-ab2c-a646d84cafcf",
   "metadata": {
    "tags": []
   },
   "outputs": [
    {
     "ename": "SyntaxError",
     "evalue": "invalid syntax (1918525940.py, line 1)",
     "output_type": "error",
     "traceback": [
      "\u001b[0;36m  Cell \u001b[0;32mIn[14], line 1\u001b[0;36m\u001b[0m\n\u001b[0;31m    npm install --save food-hygiene-ratings\u001b[0m\n\u001b[0m        ^\u001b[0m\n\u001b[0;31mSyntaxError\u001b[0m\u001b[0;31m:\u001b[0m invalid syntax\n"
     ]
    }
   ],
   "source": [
    "npm install --save food-hygiene-ratings"
   ]
  },
  {
   "cell_type": "code",
   "execution_count": 13,
   "id": "b902518d-5c5c-49ca-95ce-ba367a2f91d1",
   "metadata": {
    "tags": []
   },
   "outputs": [
    {
     "ename": "SyntaxError",
     "evalue": "invalid syntax (2295225685.py, line 1)",
     "output_type": "error",
     "traceback": [
      "\u001b[0;36m  Cell \u001b[0;32mIn[13], line 1\u001b[0;36m\u001b[0m\n\u001b[0;31m    const fhrs = require('food-hygiene-ratings'),\u001b[0m\n\u001b[0m          ^\u001b[0m\n\u001b[0;31mSyntaxError\u001b[0m\u001b[0;31m:\u001b[0m invalid syntax\n"
     ]
    }
   ],
   "source": [
    "const fhrs = require('food-hygiene-ratings'),\n",
    "    client = new fhrs.Client();"
   ]
  },
  {
   "cell_type": "code",
   "execution_count": 1,
   "id": "7d6451f4-5e34-4356-bd70-f82afcadf31c",
   "metadata": {},
   "outputs": [
    {
     "ename": "ModuleNotFoundError",
     "evalue": "No module named 'prognosis'",
     "output_type": "error",
     "traceback": [
      "\u001b[0;31m---------------------------------------------------------------------------\u001b[0m",
      "\u001b[0;31mModuleNotFoundError\u001b[0m                       Traceback (most recent call last)",
      "Cell \u001b[0;32mIn[1], line 1\u001b[0m\n\u001b[0;32m----> 1\u001b[0m \u001b[38;5;28;01mfrom\u001b[39;00m \u001b[38;5;21;01mprognosis\u001b[39;00m \u001b[38;5;28;01mimport\u001b[39;00m Country\n\u001b[1;32m      2\u001b[0m germany \u001b[38;5;241m=\u001b[39m Country(\u001b[38;5;124m'\u001b[39m\u001b[38;5;124mDE\u001b[39m\u001b[38;5;124m'\u001b[39m)\n\u001b[1;32m      4\u001b[0m \u001b[38;5;66;03m### National Accounts\u001b[39;00m\n",
      "\u001b[0;31mModuleNotFoundError\u001b[0m: No module named 'prognosis'"
     ]
    }
   ],
   "source": [
    "from prognosis import Country\n",
    "germany = Country('DE')\n",
    "\n",
    "### National Accounts\n",
    "nac = germany.national_accounts()\n",
    "\n",
    "### Consumer and producer prices\n",
    "prices = germany.prices()\n",
    "\n",
    "### Government accounts\n",
    "gov = germany.government_accounts()"
   ]
  },
  {
   "cell_type": "code",
   "execution_count": 2,
   "id": "619bb95a-53ce-45c4-b947-ebb60127c1d4",
   "metadata": {
    "tags": []
   },
   "outputs": [],
   "source": [
    "import urllib.request, urllib.parse, urllib.error\n",
    "import json\n",
    "\n",
    "serviceurl = 'https://www.econdb.com/home'"
   ]
  },
  {
   "cell_type": "code",
   "execution_count": 4,
   "id": "3d535e15-b0cb-4c19-b309-d1cb4430b69a",
   "metadata": {
    "tags": []
   },
   "outputs": [
    {
     "ename": "ModuleNotFoundError",
     "evalue": "No module named 'prognosis'",
     "output_type": "error",
     "traceback": [
      "\u001b[0;31m---------------------------------------------------------------------------\u001b[0m",
      "\u001b[0;31mModuleNotFoundError\u001b[0m                       Traceback (most recent call last)",
      "Cell \u001b[0;32mIn[4], line 1\u001b[0m\n\u001b[0;32m----> 1\u001b[0m \u001b[38;5;28;01mfrom\u001b[39;00m \u001b[38;5;21;01mprognosis\u001b[39;00m \u001b[38;5;28;01mimport\u001b[39;00m Country\n\u001b[1;32m      2\u001b[0m germany \u001b[38;5;241m=\u001b[39m Country(\u001b[38;5;124m'\u001b[39m\u001b[38;5;124mDE\u001b[39m\u001b[38;5;124m'\u001b[39m)\n\u001b[1;32m      4\u001b[0m \u001b[38;5;66;03m### National Accounts\u001b[39;00m\n",
      "\u001b[0;31mModuleNotFoundError\u001b[0m: No module named 'prognosis'"
     ]
    }
   ],
   "source": [
    "from prognosis import Country\n",
    "germany = Country('DE')\n",
    "\n",
    "### National Accounts\n",
    "nac = germany.national_accounts()\n",
    "\n",
    "### Consumer and producer prices\n",
    "prices = germany.prices()\n",
    "\n",
    "### Government accounts\n",
    "gov = germany.government_accounts()"
   ]
  },
  {
   "cell_type": "code",
   "execution_count": null,
   "id": "05d5f8d2-996a-4a00-a818-0c9f48d65c4e",
   "metadata": {},
   "outputs": [],
   "source": []
  }
 ],
 "metadata": {
  "kernelspec": {
   "display_name": "UFRC Python-3.10",
   "language": "python",
   "name": "python3-3.10-ufrc"
  },
  "language_info": {
   "codemirror_mode": {
    "name": "ipython",
    "version": 3
   },
   "file_extension": ".py",
   "mimetype": "text/x-python",
   "name": "python",
   "nbconvert_exporter": "python",
   "pygments_lexer": "ipython3",
   "version": "3.10.8"
  }
 },
 "nbformat": 4,
 "nbformat_minor": 5
}
